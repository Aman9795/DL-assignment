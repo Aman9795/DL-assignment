{
 "cells": [
  {
   "cell_type": "code",
   "execution_count": 3,
   "metadata": {},
   "outputs": [
    {
     "name": "stdout",
     "output_type": "stream",
     "text": [
      "Aman Singh-20MAI0051\n"
     ]
    }
   ],
   "source": [
    "print(\"Aman Singh-20MAI0051\")"
   ]
  },
  {
   "cell_type": "code",
   "execution_count": 4,
   "metadata": {},
   "outputs": [
    {
     "name": "stdout",
     "output_type": "stream",
     "text": [
      "Github link--  https://github.com/Aman9795/DL-assignment\n"
     ]
    }
   ],
   "source": [
    "print (\"Github link--  https://github.com/Aman9795/DL-assignment\")"
   ]
  },
  {
   "cell_type": "code",
   "execution_count": 1,
   "metadata": {},
   "outputs": [],
   "source": [
    "import numpy as np\n",
    "import matplotlib.pyplot as plt"
   ]
  },
  {
   "cell_type": "code",
   "execution_count": 6,
   "metadata": {},
   "outputs": [],
   "source": [
    "X = np.array([[1,1,0],[1,0,1],[1,0,0],[1,1,1]])"
   ]
  },
  {
   "cell_type": "code",
   "execution_count": 7,
   "metadata": {},
   "outputs": [],
   "source": [
    "y = np.array([[1],[1],[0],[0]])"
   ]
  },
  {
   "cell_type": "code",
   "execution_count": 9,
   "metadata": {},
   "outputs": [],
   "source": [
    "def sigmoid(x):\n",
    "    return 1/(1 + np.exp(-x))\n",
    "    \n"
   ]
  },
  {
   "cell_type": "code",
   "execution_count": 10,
   "metadata": {},
   "outputs": [],
   "source": [
    "def sigmoid_deriv(x):\n",
    "    return sigmoid(x)*(1-sigmoid(x))"
   ]
  },
  {
   "cell_type": "code",
   "execution_count": 12,
   "metadata": {},
   "outputs": [],
   "source": [
    "def forward(x,w1,w2,predict=False):\n",
    "    a1 = np.matmul(x,w1)\n",
    "    z1 = sigmoid(a1)\n",
    "    bias = np.ones((len(z1),1))\n",
    "    z1 = np.concatenate((bias,z1),axis=1)\n",
    "    a2 = np.matmul(z1,w2)\n",
    "    z2 = sigmoid(a2)\n",
    "    if predict:\n",
    "        return z2\n",
    "    return a1,z1,a2,z2"
   ]
  },
  {
   "cell_type": "code",
   "execution_count": 13,
   "metadata": {},
   "outputs": [],
   "source": [
    "def backprop(a2,z0,z1,z2,y):\n",
    "    delta2 = z2 - y\n",
    "    Delta2 = np.matmul(z1.T,delta2)\n",
    "    delta1 = (delta2.dot(w2[1:,:].T))*sigmoid_deriv(a1)\n",
    "    Delta1 = np.matmul(z0.T,delta1)\n",
    "    return delta2,Delta1,Delta2"
   ]
  },
  {
   "cell_type": "code",
   "execution_count": 14,
   "metadata": {},
   "outputs": [],
   "source": [
    "w1 = np.random.randn(3,5)\n",
    "w2 = np.random.randn(6,1)"
   ]
  },
  {
   "cell_type": "code",
   "execution_count": 15,
   "metadata": {},
   "outputs": [],
   "source": [
    "lr = 0.89\n",
    "costs = []"
   ]
  },
  {
   "cell_type": "code",
   "execution_count": 19,
   "metadata": {},
   "outputs": [
    {
     "name": "stdout",
     "output_type": "stream",
     "text": [
      "iteration: 0. Error: 0.49362695097624315\n",
      "iteration: 1000. Error: 0.01823026399037145\n",
      "iteration: 2000. Error: 0.007037998939951852\n",
      "iteration: 3000. Error: 0.004223960820208782\n",
      "iteration: 4000. Error: 0.002978176779656292\n",
      "iteration: 5000. Error: 0.0022848666781566697\n",
      "iteration: 6000. Error: 0.0018466204957258282\n",
      "iteration: 7000. Error: 0.0015459488497103825\n",
      "iteration: 8000. Error: 0.0013274972991372995\n",
      "iteration: 9000. Error: 0.001161916585102714\n",
      "iteration: 10000. Error: 0.0010322573209035671\n",
      "iteration: 11000. Error: 0.0009280738367283592\n",
      "iteration: 12000. Error: 0.0008425904039042234\n",
      "iteration: 13000. Error: 0.0007712259630514647\n",
      "iteration: 14000. Error: 0.0007107754557580811\n",
      "Training complete\n"
     ]
    }
   ],
   "source": [
    "epochs = 15000\n",
    "m = len(X)\n",
    "for i in range(epochs):\n",
    "    a1,z1,a2,z2 = forward(X,w1,w2)\n",
    "    delta2,Delta1,Delta2 = backprop(a2,X,z1,z2,y)\n",
    "    w1 -= lr*(1/m)*Delta1\n",
    "    w2 -= lr*(1/m)*Delta2\n",
    "    c = np.mean(np.abs(delta2))\n",
    "    costs.append(c)\n",
    "    if i % 1000 == 0:\n",
    "        print(f\"iteration: {i}. Error: {c}\")\n",
    "print(\"Training complete\")"
   ]
  },
  {
   "cell_type": "code",
   "execution_count": 20,
   "metadata": {},
   "outputs": [
    {
     "name": "stdout",
     "output_type": "stream",
     "text": [
      "Precentages: \n",
      "[[9.99382319e-01]\n",
      " [9.99238409e-01]\n",
      " [1.02756618e-04]\n",
      " [1.15369595e-03]]\n",
      "Predictions: \n",
      "[[1.]\n",
      " [1.]\n",
      " [0.]\n",
      " [0.]]\n"
     ]
    },
    {
     "data": {
      "image/png": "[encoded data removed]",
      "text/plain": [
       "<Figure size 432x288 with 1 Axes>"
      ]
     },
     "metadata": {
      "needs_background": "light"
     },
     "output_type": "display_data"
    }
   ],
   "source": [
    "z3 = forward(X,w1,w2,True)\n",
    "print(\"Precentages: \")\n",
    "print(z3)\n",
    "print(\"Predictions: \")\n",
    "print(np.round(z3))\n",
    "plt.plot(costs)\n",
    "plt.show()"
   ]
  }
 ],
 "metadata": {
  "kernelspec": {
   "display_name": "Python 3",
   "language": "python",
   "name": "python3"
  },
  "language_info": {
   "codemirror_mode": {
    "name": "ipython",
    "version": 3
   },
   "file_extension": ".py",
   "mimetype": "text/x-python",
   "name": "python",
   "nbconvert_exporter": "python",
   "pygments_lexer": "ipython3",
   "version": "3.7.3"
  }
 },
 "nbformat": 4,
 "nbformat_minor": 5
}
